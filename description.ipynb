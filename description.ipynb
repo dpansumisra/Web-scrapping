{
 "cells": [
  {
   "cell_type": "code",
   "execution_count": 11,
   "metadata": {},
   "outputs": [],
   "source": [
    "import pandas as pd\n",
    "from bs4 import BeautifulSoup\n",
    "import requests"
   ]
  },
  {
   "cell_type": "code",
   "execution_count": 12,
   "metadata": {},
   "outputs": [
    {
     "data": {
      "text/html": [
       "<div>\n",
       "<style scoped>\n",
       "    .dataframe tbody tr th:only-of-type {\n",
       "        vertical-align: middle;\n",
       "    }\n",
       "\n",
       "    .dataframe tbody tr th {\n",
       "        vertical-align: top;\n",
       "    }\n",
       "\n",
       "    .dataframe thead th {\n",
       "        text-align: right;\n",
       "    }\n",
       "</style>\n",
       "<table border=\"1\" class=\"dataframe\">\n",
       "  <thead>\n",
       "    <tr style=\"text-align: right;\">\n",
       "      <th></th>\n",
       "      <th>Product Name</th>\n",
       "      <th>Product URL</th>\n",
       "      <th>Price</th>\n",
       "      <th>Rating</th>\n",
       "      <th>No. of Reviews</th>\n",
       "    </tr>\n",
       "  </thead>\n",
       "  <tbody>\n",
       "    <tr>\n",
       "      <th>0</th>\n",
       "      <td>FUR JADEN Anti Theft Number Lock Backpack Bag ...</td>\n",
       "      <td>https://www.amazon.in/sspa/click?ie=UTF8&amp;spc=M...</td>\n",
       "      <td>749</td>\n",
       "      <td>4.1 out of 5 stars</td>\n",
       "      <td>6,672</td>\n",
       "    </tr>\n",
       "    <tr>\n",
       "      <th>1</th>\n",
       "      <td>URBAN TRIBE Fitpack Neo Multipurpose Laptop Ba...</td>\n",
       "      <td>https://www.amazon.in/sspa/click?ie=UTF8&amp;spc=M...</td>\n",
       "      <td>1,829</td>\n",
       "      <td>3.8 out of 5 stars</td>\n",
       "      <td>660</td>\n",
       "    </tr>\n",
       "    <tr>\n",
       "      <th>2</th>\n",
       "      <td>Wesley Milestone 2.0 Casual Waterproof Laptop ...</td>\n",
       "      <td>https://www.amazon.in/Wesley-Milestone-Waterpr...</td>\n",
       "      <td>499</td>\n",
       "      <td>4.3 out of 5 stars</td>\n",
       "      <td>13,238</td>\n",
       "    </tr>\n",
       "    <tr>\n",
       "      <th>3</th>\n",
       "      <td>Wesley Spartan Unisex Travel Hiking Laptop Bag...</td>\n",
       "      <td>https://www.amazon.in/Wesley-Spartan-Hiking-Ra...</td>\n",
       "      <td>689</td>\n",
       "      <td>4.1 out of 5 stars</td>\n",
       "      <td>1,956</td>\n",
       "    </tr>\n",
       "    <tr>\n",
       "      <th>4</th>\n",
       "      <td>TRUE HUMAN EMPEROR® Anti-Theft backpack With U...</td>\n",
       "      <td>https://www.amazon.in/gp/bestsellers/computers...</td>\n",
       "      <td>529</td>\n",
       "      <td>3.7 out of 5 stars</td>\n",
       "      <td>2,773</td>\n",
       "    </tr>\n",
       "  </tbody>\n",
       "</table>\n",
       "</div>"
      ],
      "text/plain": [
       "                                        Product Name  \\\n",
       "0  FUR JADEN Anti Theft Number Lock Backpack Bag ...   \n",
       "1  URBAN TRIBE Fitpack Neo Multipurpose Laptop Ba...   \n",
       "2  Wesley Milestone 2.0 Casual Waterproof Laptop ...   \n",
       "3  Wesley Spartan Unisex Travel Hiking Laptop Bag...   \n",
       "4  TRUE HUMAN EMPEROR® Anti-Theft backpack With U...   \n",
       "\n",
       "                                         Product URL  Price  \\\n",
       "0  https://www.amazon.in/sspa/click?ie=UTF8&spc=M...    749   \n",
       "1  https://www.amazon.in/sspa/click?ie=UTF8&spc=M...  1,829   \n",
       "2  https://www.amazon.in/Wesley-Milestone-Waterpr...    499   \n",
       "3  https://www.amazon.in/Wesley-Spartan-Hiking-Ra...    689   \n",
       "4  https://www.amazon.in/gp/bestsellers/computers...    529   \n",
       "\n",
       "               Rating No. of Reviews  \n",
       "0  4.1 out of 5 stars          6,672  \n",
       "1  3.8 out of 5 stars            660  \n",
       "2  4.3 out of 5 stars         13,238  \n",
       "3  4.1 out of 5 stars          1,956  \n",
       "4  3.7 out of 5 stars          2,773  "
      ]
     },
     "execution_count": 12,
     "metadata": {},
     "output_type": "execute_result"
    }
   ],
   "source": [
    "data = pd.read_csv('data.csv')\n",
    "\n",
    "data.head()"
   ]
  },
  {
   "cell_type": "code",
   "execution_count": 13,
   "metadata": {},
   "outputs": [],
   "source": [
    "descriptions = list(data.iloc[: , 1])\n",
    "descriptionColumn = {'Item Description': []}"
   ]
  },
  {
   "cell_type": "code",
   "execution_count": 15,
   "metadata": {},
   "outputs": [],
   "source": [
    "headers = {\n",
    "    'User-Agent': 'Mozilla/5.0 (Macintosh; Intel Mac OS X 10_10_1) AppleWebKit/537.36 (KHTML, like Gecko) Chrome/39.0.2171.95 Safari/537.36'\n",
    "}\n",
    "\n",
    "for description in descriptions:\n",
    "    r = requests.get(description, headers=headers)\n",
    "    soup = BeautifulSoup(r.text, 'html.parser')\n",
    "    results = soup.find_all('div', {'data-component-type': 's-search-result'})\n",
    "    descriptions = soup.find_all('li', class_='a-spacing-mini') \n",
    "    for description in descriptions:\n",
    "        description = description.get_text(strip=True)      \n",
    "        print(description if description else \"N/A\")\n",
    "        "
   ]
  },
  {
   "cell_type": "code",
   "execution_count": null,
   "metadata": {},
   "outputs": [],
   "source": []
  }
 ],
 "metadata": {
  "kernelspec": {
   "display_name": "Python 3",
   "language": "python",
   "name": "python3"
  },
  "language_info": {
   "codemirror_mode": {
    "name": "ipython",
    "version": 3
   },
   "file_extension": ".py",
   "mimetype": "text/x-python",
   "name": "python",
   "nbconvert_exporter": "python",
   "pygments_lexer": "ipython3",
   "version": "3.11.5"
  }
 },
 "nbformat": 4,
 "nbformat_minor": 2
}
